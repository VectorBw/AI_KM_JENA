{
 "cells": [
  {
   "cell_type": "markdown",
   "metadata": {
    "colab_type": "text",
    "id": "8c4V7KLZDtNv"
   },
   "source": [
    "# Tutorial 3 : Text classification using scikit learn"
   ]
  },
  {
   "cell_type": "code",
   "execution_count": 0,
   "metadata": {
    "colab": {},
    "colab_type": "code",
    "id": "w7EPHVNzRn3F"
   },
   "outputs": [],
   "source": [
    "!mkdir text"
   ]
  },
  {
   "cell_type": "code",
   "execution_count": 0,
   "metadata": {
    "colab": {
     "base_uri": "https://localhost:8080/",
     "height": 1708,
     "resources": {
      "http://localhost:8080/nbextensions/google.colab/files.js": {
       "data": "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",
       "headers": [
        [
         "content-type",
         "application/javascript"
        ]
       ],
       "ok": true,
       "status": 200,
       "status_text": ""
      }
     }
    },
    "colab_type": "code",
    "id": "ThaKx3RuPWbL",
    "outputId": "ce6b2587-6976-493b-d948-845e9d87abdc"
   },
   "outputs": [
    {
     "data": {
      "text/html": [
       "\n",
       "     <input type=\"file\" id=\"files-94bb7be4-3ed9-4d1c-813e-f75f95ceba76\" name=\"files[]\" multiple disabled />\n",
       "     <output id=\"result-94bb7be4-3ed9-4d1c-813e-f75f95ceba76\">\n",
       "      Upload widget is only available when the cell has been executed in the\n",
       "      current browser session. Please rerun this cell to enable.\n",
       "      </output>\n",
       "      <script src=\"/nbextensions/google.colab/files.js\"></script> "
      ],
      "text/plain": [
       "<IPython.core.display.HTML object>"
      ]
     },
     "metadata": {
      "tags": []
     },
     "output_type": "display_data"
    },
    {
     "name": "stdout",
     "output_type": "stream",
     "text": [
      "Saving Alibaba's Singles' Day sales hits new record of 200 billion yuan.txt to Alibaba's Singles' Day sales hits new record of 200 billion yuan.txt\n",
      "Saving Around the NBA, skepticism over whether Wizards would actually trade John Wall or Bradley Beal.txt to Around the NBA, skepticism over whether Wizards would actually trade John Wall or Bradley Beal.txt\n",
      "Saving Australia's Boomers beat Iran to qualify for basketball's FIBA World Cup.txt to Australia's Boomers beat Iran to qualify for basketball's FIBA World Cup.txt\n",
      "Saving Carbon sink may turn into carbon source due to climate change study.txt to Carbon sink may turn into carbon source due to climate change study.txt\n",
      "Saving China launches twin BeiDou navigation satellites.txt to China launches twin BeiDou navigation satellites.txt\n",
      "Saving China to ease tax burdens for private enterprises.txt to China to ease tax burdens for private enterprises.txt\n",
      "Saving China urges seeking mutually acceptable solutions on issues with US.txt to China urges seeking mutually acceptable solutions on issues with US.txt\n",
      "Saving China urges US to stop wagging finger at others.txt to China urges US to stop wagging finger at others.txt\n",
      "Saving China's 40 years of economic reform that opened the country up and turned it into a superpower.txt to China's 40 years of economic reform that opened the country up and turned it into a superpower.txt\n",
      "Saving Earthquakes in Alaska buckle roads and trigger tsunami warning.txt to Earthquakes in Alaska buckle roads and trigger tsunami warning.txt\n",
      "Saving Former Fremantle Dockers AFL player Craig Moller set to represent Australia in basketball.txt to Former Fremantle Dockers AFL player Craig Moller set to represent Australia in basketball.txt\n",
      "Saving George HW Bush, former US president, dies.txt to George HW Bush, former US president, dies.txt\n",
      "Saving Germany held 2-2 by Netherlands in UEFA Nations League.txt to Germany held 2-2 by Netherlands in UEFA Nations League.txt\n",
      "Saving How Bobby Bones and partner Sharna Burgess pulled off the 'DWTS' Mirrorball Miracl.txt to How Bobby Bones and partner Sharna Burgess pulled off the 'DWTS' Mirrorball Miracl.txt\n",
      "Saving Jeff Horn eyeing multiple weight divisions, big fights at home after 96-second win over Anthony Mundine.txt to Jeff Horn eyeing multiple weight divisions, big fights at home after 96-second win over Anthony Mundine.txt\n",
      "Saving Low vaccine rates contributed to deadly flu season.txt to Low vaccine rates contributed to deadly flu season.txt\n",
      "Saving Mohamed Noor could face upgraded murder charge over fatal shooting of Justine Damond Ruszczyk.txt to Mohamed Noor could face upgraded murder charge over fatal shooting of Justine Damond Ruszczyk.txt\n",
      "Saving NASA chooses difficult landing site for next Mars rover.txt to NASA chooses difficult landing site for next Mars rover.txt\n",
      "Saving NASA selects ancient crater as next Mars landing site.txt to NASA selects ancient crater as next Mars landing site.txt\n",
      "Saving New rumors Galaxy S10 colors, 5G variant launch, and cheaper model details.txt to New rumors Galaxy S10 colors, 5G variant launch, and cheaper model details.txt\n",
      "Saving New York City subway and bus services have entered 'death spiral', experts say.txt to New York City subway and bus services have entered 'death spiral', experts say.txt\n",
      "Saving Rock fishers could be the real winners of student's prized idea of sending a text if they're swept from rocks.txt to Rock fishers could be the real winners of student's prized idea of sending a text if they're swept from rocks.txt\n",
      "Saving Scientists stuffed balloons into dead wombats to learn why they poop cubes.txt to Scientists stuffed balloons into dead wombats to learn why they poop cubes.txt\n",
      "Saving Showdown at Renault France wants Carlos Ghosn out.txt to Showdown at Renault France wants Carlos Ghosn out.txt\n",
      "Saving These atomic clocks are so precise they can measure the distortion of space-time.txt to These atomic clocks are so precise they can measure the distortion of space-time.txt\n",
      "Saving Vietnam, Russia discuss ways to boost cooperativeties.txt to Vietnam, Russia discuss ways to boost cooperativeties.txt\n",
      "Saving When the political going gets tough, blame sexism.txt to When the political going gets tough, blame sexism.txt\n",
      "Saving Xi arrives in Philippines for state visit.txt to Xi arrives in Philippines for state visit.txt\n",
      "Saving Yankees Acquire James Paxton.txt to Yankees Acquire James Paxton.txt\n",
      "Saving Your Chromecast can now sync and stream audio along with Google Home speakers.txt to Your Chromecast can now sync and stream audio along with Google Home speakers.txt\n",
      "User uploaded file \"Showdown at Renault France wants Carlos Ghosn out.txt\" with length 8943 bytes\n",
      "User uploaded file \"China urges seeking mutually acceptable solutions on issues with US.txt\" with length 2146 bytes\n",
      "User uploaded file \"Your Chromecast can now sync and stream audio along with Google Home speakers.txt\" with length 3106 bytes\n",
      "User uploaded file \"Australia's Boomers beat Iran to qualify for basketball's FIBA World Cup.txt\" with length 2701 bytes\n",
      "User uploaded file \"Mohamed Noor could face upgraded murder charge over fatal shooting of Justine Damond Ruszczyk.txt\" with length 4026 bytes\n",
      "User uploaded file \"China to ease tax burdens for private enterprises.txt\" with length 1404 bytes\n",
      "User uploaded file \"Yankees Acquire James Paxton.txt\" with length 6705 bytes\n",
      "User uploaded file \"Earthquakes in Alaska buckle roads and trigger tsunami warning.txt\" with length 5123 bytes\n",
      "User uploaded file \"Around the NBA, skepticism over whether Wizards would actually trade John Wall or Bradley Beal.txt\" with length 5035 bytes\n",
      "User uploaded file \"China urges US to stop wagging finger at others.txt\" with length 3006 bytes\n",
      "User uploaded file \"Germany held 2-2 by Netherlands in UEFA Nations League.txt\" with length 2348 bytes\n",
      "User uploaded file \"New York City subway and bus services have entered 'death spiral', experts say.txt\" with length 4697 bytes\n",
      "User uploaded file \"These atomic clocks are so precise they can measure the distortion of space-time.txt\" with length 9669 bytes\n",
      "User uploaded file \"George HW Bush, former US president, dies.txt\" with length 10023 bytes\n",
      "User uploaded file \"NASA selects ancient crater as next Mars landing site.txt\" with length 4797 bytes\n",
      "User uploaded file \"Vietnam, Russia discuss ways to boost cooperativeties.txt\" with length 911 bytes\n",
      "User uploaded file \"NASA chooses difficult landing site for next Mars rover.txt\" with length 2598 bytes\n",
      "User uploaded file \"Carbon sink may turn into carbon source due to climate change study.txt\" with length 2074 bytes\n",
      "User uploaded file \"Rock fishers could be the real winners of student's prized idea of sending a text if they're swept from rocks.txt\" with length 7094 bytes\n",
      "User uploaded file \"When the political going gets tough, blame sexism.txt\" with length 10037 bytes\n",
      "User uploaded file \"China's 40 years of economic reform that opened the country up and turned it into a superpower.txt\" with length 14551 bytes\n",
      "User uploaded file \"Jeff Horn eyeing multiple weight divisions, big fights at home after 96-second win over Anthony Mundine.txt\" with length 3297 bytes\n",
      "User uploaded file \"Alibaba's Singles' Day sales hits new record of 200 billion yuan.txt\" with length 1603 bytes\n",
      "User uploaded file \"Scientists stuffed balloons into dead wombats to learn why they poop cubes.txt\" with length 5822 bytes\n",
      "User uploaded file \"China launches twin BeiDou navigation satellites.txt\" with length 1438 bytes\n",
      "User uploaded file \"Low vaccine rates contributed to deadly flu season.txt\" with length 3855 bytes\n",
      "User uploaded file \"Former Fremantle Dockers AFL player Craig Moller set to represent Australia in basketball.txt\" with length 4479 bytes\n",
      "User uploaded file \"How Bobby Bones and partner Sharna Burgess pulled off the 'DWTS' Mirrorball Miracl.txt\" with length 4230 bytes\n",
      "User uploaded file \"New rumors Galaxy S10 colors, 5G variant launch, and cheaper model details.txt\" with length 2662 bytes\n",
      "User uploaded file \"Xi arrives in Philippines for state visit.txt\" with length 1790 bytes\n"
     ]
    }
   ],
   "source": [
    "from google.colab import files\n",
    "\n",
    "uploaded = files.upload()\n",
    "\n",
    "for fn in uploaded.keys():\n",
    "  print('User uploaded file \"{name}\" with length {length} bytes'.format(\n",
    "      name=fn, length=len(uploaded[fn])))"
   ]
  },
  {
   "cell_type": "code",
   "execution_count": 0,
   "metadata": {
    "colab": {},
    "colab_type": "code",
    "id": "yfqyidoKO8yZ"
   },
   "outputs": [],
   "source": [
    "!mv *.txt ./text"
   ]
  },
  {
   "cell_type": "code",
   "execution_count": 0,
   "metadata": {
    "colab": {
     "base_uri": "https://localhost:8080/",
     "height": 521
    },
    "colab_type": "code",
    "id": "4BizqD_gWh47",
    "outputId": "13ebe712-3a41-4d71-d451-41035e1ed46c"
   },
   "outputs": [
    {
     "name": "stdout",
     "output_type": "stream",
     "text": [
      "\"Alibaba's Singles' Day sales hits new record of 200 billion yuan.txt\"\n",
      "'Around the NBA, skepticism over whether Wizards would actually trade John Wall or Bradley Beal.txt'\n",
      "\"Australia's Boomers beat Iran to qualify for basketball's FIBA World Cup.txt\"\n",
      "'Carbon sink may turn into carbon source due to climate change study.txt'\n",
      "'China launches twin BeiDou navigation satellites.txt'\n",
      "\"China's 40 years of economic reform that opened the country up and turned it into a superpower.txt\"\n",
      "'China to ease tax burdens for private enterprises.txt'\n",
      "'China urges seeking mutually acceptable solutions on issues with US.txt'\n",
      "'China urges US to stop wagging finger at others.txt'\n",
      "'Earthquakes in Alaska buckle roads and trigger tsunami warning.txt'\n",
      "'Former Fremantle Dockers AFL player Craig Moller set to represent Australia in basketball.txt'\n",
      "'George HW Bush, former US president, dies.txt'\n",
      "'Germany held 2-2 by Netherlands in UEFA Nations League.txt'\n",
      "\"How Bobby Bones and partner Sharna Burgess pulled off the 'DWTS' Mirrorball Miracl.txt\"\n",
      "'Jeff Horn eyeing multiple weight divisions, big fights at home after 96-second win over Anthony Mundine.txt'\n",
      "'Low vaccine rates contributed to deadly flu season.txt'\n",
      "'Mohamed Noor could face upgraded murder charge over fatal shooting of Justine Damond Ruszczyk.txt'\n",
      "'NASA chooses difficult landing site for next Mars rover.txt'\n",
      "'NASA selects ancient crater as next Mars landing site.txt'\n",
      "'New rumors Galaxy S10 colors, 5G variant launch, and cheaper model details.txt'\n",
      "\"New York City subway and bus services have entered 'death spiral', experts say.txt\"\n",
      "\"Rock fishers could be the real winners of student's prized idea of sending a text if they're swept from rocks.txt\"\n",
      "'Scientists stuffed balloons into dead wombats to learn why they poop cubes.txt'\n",
      "'Showdown at Renault France wants Carlos Ghosn out.txt'\n",
      "'These atomic clocks are so precise they can measure the distortion of space-time.txt'\n",
      "'Vietnam, Russia discuss ways to boost cooperativeties.txt'\n",
      "'When the political going gets tough, blame sexism.txt'\n",
      "'Xi arrives in Philippines for state visit.txt'\n",
      "'Yankees Acquire James Paxton.txt'\n",
      "'Your Chromecast can now sync and stream audio along with Google Home speakers.txt'\n"
     ]
    }
   ],
   "source": [
    "!ls ./text"
   ]
  },
  {
   "cell_type": "code",
   "execution_count": 0,
   "metadata": {
    "colab": {},
    "colab_type": "code",
    "id": "YHgLHcc6DtNv"
   },
   "outputs": [],
   "source": [
    "#Loading the data set - training data.\n",
    "from sklearn.datasets import fetch_20newsgroups\n",
    "twenty_train = fetch_20newsgroups(subset='train', shuffle=True)\n",
    "twenty_test = fetch_20newsgroups(subset='test')"
   ]
  },
  {
   "cell_type": "code",
   "execution_count": 0,
   "metadata": {
    "colab": {},
    "colab_type": "code",
    "id": "ckD4XQIneXR0"
   },
   "outputs": [],
   "source": [
    "#打开所有TXT文档\n",
    "import os\n",
    "import codecs\n",
    "import io\n",
    "filepath = \"./text\"\n",
    "text_name = os.listdir(\"./text\")\n",
    "news_30 = []\n",
    "title_30 = []\n",
    "datas = set()\n",
    "for s in text_name:\n",
    "  newDir=os.path.join(filepath,s)     #将文件命加入到当前文件路径后面\n",
    "  if os.path.isfile(newDir) :         #如果是文件\n",
    "    if os.path.splitext(newDir)[1]==\".txt\":  #判断是否是txt\n",
    "      f = codecs.open(newDir,encoding='utf-8', errors='ignore').read()\n",
    "      news_30.append(f)\n",
    "      title_30.append(os.path.splitext(newDir)[0].replace(\"./text/\",\"\"))\n",
    "      datas.add(f)\n",
    "    pass\n",
    "  else:\n",
    "    eachFile(newDir)                #如果不是文件，递归这个文件夹的路径\n"
   ]
  },
  {
   "cell_type": "code",
   "execution_count": 0,
   "metadata": {
    "colab": {
     "base_uri": "https://localhost:8080/",
     "height": 521
    },
    "colab_type": "code",
    "id": "Z2ZsjK75sUIA",
    "outputId": "21eca32d-a49d-4096-fd13-6d326f17fdc5"
   },
   "outputs": [
    {
     "data": {
      "text/plain": [
       "['Showdown at Renault France wants Carlos Ghosn out',\n",
       " 'China urges seeking mutually acceptable solutions on issues with US',\n",
       " 'NASA chooses difficult landing site for next Mars rover',\n",
       " 'Xi arrives in Philippines for state visit',\n",
       " 'New rumors Galaxy S10 colors, 5G variant launch, and cheaper model details',\n",
       " 'Vietnam, Russia discuss ways to boost cooperativeties',\n",
       " 'When the political going gets tough, blame sexism',\n",
       " 'China to ease tax burdens for private enterprises',\n",
       " \"China's 40 years of economic reform that opened the country up and turned it into a superpower\",\n",
       " 'Low vaccine rates contributed to deadly flu season',\n",
       " 'Yankees Acquire James Paxton',\n",
       " 'George HW Bush, former US president, dies',\n",
       " \"New York City subway and bus services have entered 'death spiral', experts say\",\n",
       " \"How Bobby Bones and partner Sharna Burgess pulled off the 'DWTS' Mirrorball Miracl\",\n",
       " \"Alibaba's Singles' Day sales hits new record of 200 billion yuan\",\n",
       " 'China launches twin BeiDou navigation satellites',\n",
       " 'Earthquakes in Alaska buckle roads and trigger tsunami warning',\n",
       " 'Germany held 2-2 by Netherlands in UEFA Nations League',\n",
       " \"Australia's Boomers beat Iran to qualify for basketball's FIBA World Cup\",\n",
       " 'Mohamed Noor could face upgraded murder charge over fatal shooting of Justine Damond Ruszczyk',\n",
       " 'Carbon sink may turn into carbon source due to climate change study',\n",
       " 'These atomic clocks are so precise they can measure the distortion of space-time',\n",
       " 'Your Chromecast can now sync and stream audio along with Google Home speakers',\n",
       " 'NASA selects ancient crater as next Mars landing site',\n",
       " \"Rock fishers could be the real winners of student's prized idea of sending a text if they're swept from rocks\",\n",
       " 'Jeff Horn eyeing multiple weight divisions, big fights at home after 96-second win over Anthony Mundine',\n",
       " 'Scientists stuffed balloons into dead wombats to learn why they poop cubes',\n",
       " 'Former Fremantle Dockers AFL player Craig Moller set to represent Australia in basketball',\n",
       " 'China urges US to stop wagging finger at others',\n",
       " 'Around the NBA, skepticism over whether Wizards would actually trade John Wall or Bradley Beal']"
      ]
     },
     "execution_count": 15,
     "metadata": {
      "tags": []
     },
     "output_type": "execute_result"
    }
   ],
   "source": [
    "title_30"
   ]
  },
  {
   "cell_type": "markdown",
   "metadata": {
    "colab_type": "text",
    "id": "okjLRaSZDtNz"
   },
   "source": [
    "# Question 1 : Print the categories names and some text examples"
   ]
  },
  {
   "cell_type": "code",
   "execution_count": 0,
   "metadata": {
    "colab": {
     "base_uri": "https://localhost:8080/",
     "height": 353
    },
    "colab_type": "code",
    "id": "UUae3EPJDtNz",
    "outputId": "742a93e8-81d9-4009-990c-572997e36144"
   },
   "outputs": [
    {
     "data": {
      "text/plain": [
       "['alt.atheism',\n",
       " 'comp.graphics',\n",
       " 'comp.os.ms-windows.misc',\n",
       " 'comp.sys.ibm.pc.hardware',\n",
       " 'comp.sys.mac.hardware',\n",
       " 'comp.windows.x',\n",
       " 'misc.forsale',\n",
       " 'rec.autos',\n",
       " 'rec.motorcycles',\n",
       " 'rec.sport.baseball',\n",
       " 'rec.sport.hockey',\n",
       " 'sci.crypt',\n",
       " 'sci.electronics',\n",
       " 'sci.med',\n",
       " 'sci.space',\n",
       " 'soc.religion.christian',\n",
       " 'talk.politics.guns',\n",
       " 'talk.politics.mideast',\n",
       " 'talk.politics.misc',\n",
       " 'talk.religion.misc']"
      ]
     },
     "execution_count": 16,
     "metadata": {
      "tags": []
     },
     "output_type": "execute_result"
    }
   ],
   "source": [
    "# You can check the target names (categories) by using target_names\n",
    "# the texts are stored in the data attribute of the variable twinty train\n",
    "twenty_train.target_names"
   ]
  },
  {
   "cell_type": "code",
   "execution_count": 0,
   "metadata": {
    "colab": {
     "base_uri": "https://localhost:8080/",
     "height": 34
    },
    "colab_type": "code",
    "id": "Bk4RerKvLYLn",
    "outputId": "ba39bad6-87f6-44ca-a8ad-0d72726a7692"
   },
   "outputs": [
    {
     "data": {
      "text/plain": [
       "(7532, 93564)"
      ]
     },
     "execution_count": 17,
     "metadata": {
      "tags": []
     },
     "output_type": "execute_result"
    }
   ],
   "source": [
    "from sklearn.feature_extraction.text import CountVectorizer\n",
    "count_vect = CountVectorizer()\n",
    "X_test_counts = count_vect.fit_transform(twenty_test.data)\n",
    "X_test_counts.shape"
   ]
  },
  {
   "cell_type": "markdown",
   "metadata": {
    "colab_type": "text",
    "id": "7C5_zIqtDtN1"
   },
   "source": [
    "# Features extraction from text data"
   ]
  },
  {
   "cell_type": "code",
   "execution_count": 0,
   "metadata": {
    "colab": {
     "base_uri": "https://localhost:8080/",
     "height": 34
    },
    "colab_type": "code",
    "id": "dAJSS-NVDtN1",
    "outputId": "240d149b-449c-41b6-e660-ee14d3e73fad"
   },
   "outputs": [
    {
     "data": {
      "text/plain": [
       "(11314, 130107)"
      ]
     },
     "execution_count": 18,
     "metadata": {
      "tags": []
     },
     "output_type": "execute_result"
    }
   ],
   "source": [
    "#check the scikit documentation to see definition of CoutVectorizer\n",
    "from sklearn.feature_extraction.text import CountVectorizer\n",
    "count_vect = CountVectorizer()\n",
    "X_train_counts = count_vect.fit_transform(twenty_train.data)\n",
    "X_train_counts.shape"
   ]
  },
  {
   "cell_type": "code",
   "execution_count": 0,
   "metadata": {
    "colab": {},
    "colab_type": "code",
    "id": "GESzyVqlDtN4"
   },
   "outputs": [],
   "source": [
    "# TF-IDF is an other text preprocessing procedure : Check its definition and apply it using the following code\n",
    "from sklearn.feature_extraction.text import TfidfTransformer\n",
    "tfidf_transformer = TfidfTransformer()\n",
    "X_train_tfidf = tfidf_transformer.fit_transform(X_train_counts)"
   ]
  },
  {
   "cell_type": "markdown",
   "metadata": {
    "colab_type": "text",
    "id": "9PQrSN_6DtN6"
   },
   "source": [
    "# Try a machine learning algorithm"
   ]
  },
  {
   "cell_type": "code",
   "execution_count": 0,
   "metadata": {
    "colab": {},
    "colab_type": "code",
    "id": "ayzPvDyZDtN7"
   },
   "outputs": [],
   "source": [
    "# Training Naive Bayes (NB) classifier on training data.\n",
    "from sklearn.naive_bayes import MultinomialNB\n",
    "clf = MultinomialNB().fit(X_train_tfidf, twenty_train.target)"
   ]
  },
  {
   "cell_type": "markdown",
   "metadata": {
    "colab_type": "text",
    "id": "g2WDC8N_DtN9"
   },
   "source": [
    "# Build a pipeline including preprocessings and learning steps"
   ]
  },
  {
   "cell_type": "code",
   "execution_count": 0,
   "metadata": {
    "colab": {},
    "colab_type": "code",
    "id": "fULWguVODtN9"
   },
   "outputs": [],
   "source": [
    "# Building a pipeline: We can write less code and do all of the above, by building a pipeline as follows:\n",
    "# We will be using the 'text_clf' going forward.\n",
    "from sklearn.pipeline import Pipeline\n",
    "\n",
    "text_clf = Pipeline([('vect', CountVectorizer()), ('tfidf', TfidfTransformer()), ('clf', MultinomialNB())])\n",
    "\n",
    "text_clf = text_clf.fit(twenty_train.data, twenty_train.target)"
   ]
  },
  {
   "cell_type": "markdown",
   "metadata": {
    "colab_type": "text",
    "id": "LE_q9k3nDtN_"
   },
   "source": [
    "# Evaluate your model performance"
   ]
  },
  {
   "cell_type": "markdown",
   "metadata": {
    "colab_type": "text",
    "id": "NvgfjottDtOA"
   },
   "source": [
    "Exercice : evaluate the performance of the first model (named clf) on the 20 newsgroups test data "
   ]
  },
  {
   "cell_type": "code",
   "execution_count": 0,
   "metadata": {
    "colab": {},
    "colab_type": "code",
    "id": "Zrg6sHSfag7M"
   },
   "outputs": [],
   "source": [
    "docs_test = twenty_test.data"
   ]
  },
  {
   "cell_type": "code",
   "execution_count": 0,
   "metadata": {
    "colab": {},
    "colab_type": "code",
    "id": "wGvZAieuDtOB"
   },
   "outputs": [],
   "source": [
    "clf_res = text_clf.predict(docs_test)"
   ]
  },
  {
   "cell_type": "code",
   "execution_count": 0,
   "metadata": {
    "colab": {
     "base_uri": "https://localhost:8080/",
     "height": 50
    },
    "colab_type": "code",
    "id": "_D1YEEMrLIEe",
    "outputId": "ac079692-6f07-4a5d-a85b-3b2cb8870c09"
   },
   "outputs": [
    {
     "name": "stdout",
     "output_type": "stream",
     "text": [
      "准确率为：\n",
      "0.7738980350504514\n"
     ]
    }
   ],
   "source": [
    "import numpy as np\n",
    "print(\"准确率为：\")\n",
    "print(np.mean(clf_res == twenty_test.target))"
   ]
  },
  {
   "cell_type": "markdown",
   "metadata": {
    "colab_type": "text",
    "id": "cN-IPhNjtDo2"
   },
   "source": [
    "# Evaluate MY news_30 model performance"
   ]
  },
  {
   "cell_type": "code",
   "execution_count": 0,
   "metadata": {
    "colab": {},
    "colab_type": "code",
    "id": "3JBRGHD1tLOz"
   },
   "outputs": [],
   "source": [
    "new_predict = text_clf.predict(news_30)"
   ]
  },
  {
   "cell_type": "code",
   "execution_count": 0,
   "metadata": {
    "colab": {
     "base_uri": "https://localhost:8080/",
     "height": 50
    },
    "colab_type": "code",
    "id": "jstNRRzLv-EI",
    "outputId": "de09008c-4c50-4334-d185-2424ee6230a5"
   },
   "outputs": [
    {
     "data": {
      "text/plain": [
       "array([17, 15, 14, 17, 14, 17, 15, 18, 17, 16,  9, 17, 16, 10, 14, 14, 16,\n",
       "       10, 10, 16, 14, 14, 11, 14, 15, 10, 15, 10, 17, 10])"
      ]
     },
     "execution_count": 26,
     "metadata": {
      "tags": []
     },
     "output_type": "execute_result"
    }
   ],
   "source": [
    "new_predict"
   ]
  },
  {
   "cell_type": "markdown",
   "metadata": {
    "colab_type": "text",
    "id": "Nw0tfJbIDtOC"
   },
   "source": [
    "# Exercice : Using scikit pipeline and SVM Classifier (http://scikit-learn.org/stable/modules/generated/sklearn.linear_model.SGDClassifier.html), create a model based on the 20newsgroup dataset and evaluate its performance."
   ]
  },
  {
   "cell_type": "code",
   "execution_count": 0,
   "metadata": {
    "colab": {
     "base_uri": "https://localhost:8080/",
     "height": 104
    },
    "colab_type": "code",
    "id": "gi-7a-_QDtOE",
    "outputId": "2544c843-bf10-409b-d7a0-7becec66e48a"
   },
   "outputs": [
    {
     "name": "stderr",
     "output_type": "stream",
     "text": [
      "/usr/local/lib/python2.7/dist-packages/sklearn/linear_model/stochastic_gradient.py:117: DeprecationWarning: n_iter parameter is deprecated in 0.19 and will be removed in 0.21. Use max_iter and tol instead.\n",
      "  DeprecationWarning)\n"
     ]
    },
    {
     "name": "stdout",
     "output_type": "stream",
     "text": [
      "ACC：\n",
      "0.8238183749336165\n"
     ]
    }
   ],
   "source": [
    "from sklearn.linear_model import SGDClassifier\n",
    "text_clf_svm = Pipeline([('vect', CountVectorizer()),\n",
    "                     ('tfidf', TfidfTransformer()),\n",
    "                     ('clf', SGDClassifier(loss='hinge',\n",
    "                                            penalty='l2',\n",
    "                                            alpha=1e-3,\n",
    "                                            n_iter=5,\n",
    "                                            random_state=42)),\n",
    "                    ])\n",
    "_ = text_clf_svm.fit(twenty_train.data, twenty_train.target)\n",
    "predicted = text_clf_svm.predict(docs_test)\n",
    "print(\"ACC：\")\n",
    "print(np.mean(predicted == twenty_test.target))"
   ]
  },
  {
   "cell_type": "code",
   "execution_count": 0,
   "metadata": {
    "colab": {},
    "colab_type": "code",
    "id": "ukwFBFZFxxai"
   },
   "outputs": [],
   "source": [
    "new_predict_svm = text_clf_svm.predict(news_30)"
   ]
  },
  {
   "cell_type": "code",
   "execution_count": 0,
   "metadata": {
    "colab": {
     "base_uri": "https://localhost:8080/",
     "height": 50
    },
    "colab_type": "code",
    "id": "puwKiFWNx4VK",
    "outputId": "1c5975e1-2f60-4d44-b399-58fb8029cf20"
   },
   "outputs": [
    {
     "data": {
      "text/plain": [
       "array([17, 18, 14, 17, 14, 17, 13, 18, 17, 10,  9, 18, 18, 10, 14, 14, 14,\n",
       "       10, 10, 17, 14, 14, 12, 14,  9, 10, 13, 10, 17, 10])"
      ]
     },
     "execution_count": 29,
     "metadata": {
      "tags": []
     },
     "output_type": "execute_result"
    }
   ],
   "source": [
    "new_predict_svm"
   ]
  },
  {
   "cell_type": "markdown",
   "metadata": {
    "colab_type": "text",
    "id": "fb7ST-tzDtOF"
   },
   "source": [
    "# Grid Search : Trying different hyperparameters"
   ]
  },
  {
   "cell_type": "code",
   "execution_count": 0,
   "metadata": {
    "colab": {},
    "colab_type": "code",
    "id": "MLevPgB4DtOG"
   },
   "outputs": [],
   "source": [
    "# First, we are creating a list of parameters for which we would like to do performance tuning. \n",
    "# All the parameters name start with the classifier name.\n",
    "# E.g. vect__ngram_range; here we are telling to use unigram and bigrams and choose the one which is optimal.\n",
    "\n",
    "from sklearn.model_selection import GridSearchCV\n",
    "parameters = {'vect__ngram_range': [(1, 1), (1, 2)], 'tfidf__use_idf': (True, False), 'clf__alpha': (1e-2, 1e-3)}"
   ]
  },
  {
   "cell_type": "code",
   "execution_count": 0,
   "metadata": {
    "colab": {},
    "colab_type": "code",
    "id": "lnbFoGvcDtOI"
   },
   "outputs": [],
   "source": [
    "# Next, we create an instance of the grid search by passing the classifier, parameters \n",
    "# and n_jobs=-1 which tells to use multiple cores from user machine.\n",
    "\n",
    "gs_clf = GridSearchCV(text_clf, parameters, n_jobs=-1)\n",
    "gs_clf = gs_clf.fit(twenty_train.data, twenty_train.target)"
   ]
  },
  {
   "cell_type": "code",
   "execution_count": 0,
   "metadata": {
    "colab": {
     "base_uri": "https://localhost:8080/",
     "height": 50
    },
    "colab_type": "code",
    "id": "zODyXKFvDtOK",
    "outputId": "db01404b-fa5b-45fc-a630-f3cbd83cdda9"
   },
   "outputs": [
    {
     "name": "stdout",
     "output_type": "stream",
     "text": [
      "0.9067526957751458\n",
      "{'vect__ngram_range': (1, 2), 'tfidf__use_idf': True, 'clf__alpha': 0.01}\n"
     ]
    }
   ],
   "source": [
    "# To see the best mean score and the params, run the following code\n",
    "\n",
    "print(gs_clf.best_score_)\n",
    "print(gs_clf.best_params_)\n",
    "\n",
    "# Output for above should be: The accuracy has now increased to ~90.6% for the NB classifier\n",
    "# and the corresponding parameters are {‘clf__alpha’: 0.01, ‘tfidf__use_idf’: True, ‘vect__ngram_range’: (1, 2)}."
   ]
  },
  {
   "cell_type": "code",
   "execution_count": 0,
   "metadata": {
    "colab": {
     "base_uri": "https://localhost:8080/",
     "height": 50
    },
    "colab_type": "code",
    "id": "9y1eeAnsZjYh",
    "outputId": "fc6817b9-404a-4ab8-d477-0e1d8dae8862"
   },
   "outputs": [
    {
     "data": {
      "text/plain": [
       "array([18, 18, 14, 17, 14, 17, 18, 18, 18, 13,  9, 18, 18, 10, 14, 14, 17,\n",
       "       10, 10, 16, 14, 14, 12, 14, 15, 10, 13, 10, 17, 10])"
      ]
     },
     "execution_count": 33,
     "metadata": {
      "tags": []
     },
     "output_type": "execute_result"
    }
   ],
   "source": [
    "gs_clf.predict(news_30)"
   ]
  },
  {
   "cell_type": "markdown",
   "metadata": {
    "colab_type": "text",
    "id": "QRMP_i4HDtON"
   },
   "source": [
    "# Grid Search for SVM : Similarly, do grid search for SVM and output the best score and parameters"
   ]
  },
  {
   "cell_type": "code",
   "execution_count": 0,
   "metadata": {
    "colab": {},
    "colab_type": "code",
    "id": "C-u0GjVVDtON"
   },
   "outputs": [],
   "source": [
    "# 查看分类器对于新文本的预测结果，你可以自行改变下方的字符串来观察分类效果\n",
    "gs_clf_svm = GridSearchCV(text_clf_svm, parameters, n_jobs=-1)\n",
    "gs_clf_svm = gs_clf.fit(twenty_train.data, twenty_train.target)"
   ]
  },
  {
   "cell_type": "code",
   "execution_count": 0,
   "metadata": {
    "colab": {
     "base_uri": "https://localhost:8080/",
     "height": 50
    },
    "colab_type": "code",
    "id": "2iYRdIoemwwd",
    "outputId": "6d9f3809-87fe-462a-ab05-72648fdfc39b"
   },
   "outputs": [
    {
     "name": "stdout",
     "output_type": "stream",
     "text": [
      "0.9067526957751458\n",
      "{'vect__ngram_range': (1, 2), 'tfidf__use_idf': True, 'clf__alpha': 0.01}\n"
     ]
    }
   ],
   "source": [
    "print(gs_clf_svm.best_score_)\n",
    "print(gs_clf_svm.best_params_)"
   ]
  },
  {
   "cell_type": "code",
   "execution_count": 0,
   "metadata": {
    "colab": {
     "base_uri": "https://localhost:8080/",
     "height": 50
    },
    "colab_type": "code",
    "id": "CJ8aYkRd9DVc",
    "outputId": "81c8b3a6-9a96-4466-ec9e-ada3c5620fff"
   },
   "outputs": [
    {
     "data": {
      "text/plain": [
       "array([18, 18, 14, 17, 14, 17, 18, 18, 18, 13,  9, 18, 18, 10, 14, 14, 17,\n",
       "       10, 10, 16, 14, 14, 12, 14, 15, 10, 13, 10, 17, 10])"
      ]
     },
     "execution_count": 36,
     "metadata": {
      "tags": []
     },
     "output_type": "execute_result"
    }
   ],
   "source": [
    "gs_clf_svm.predict(news_30)"
   ]
  },
  {
   "cell_type": "markdown",
   "metadata": {
    "colab_type": "text",
    "id": "44K4wyzHxOWH"
   },
   "source": [
    "#save as CSV\n"
   ]
  },
  {
   "cell_type": "markdown",
   "metadata": {
    "colab_type": "text",
    "id": "aONsGAXf1PoF"
   },
   "source": [
    "'alt.atheism',\n",
    "\n",
    " 'comp.graphics',\n",
    " \n",
    " 'comp.os.ms-windows.misc',\n",
    " \n",
    " 'comp.sys.ibm.pc.hardware',\n",
    " \n",
    " 'comp.sys.mac.hardware',\n",
    " \n",
    " 'comp.windows.x',\n",
    " \n",
    " 'misc.forsale',\n",
    " \n",
    " 'rec.autos',\n",
    " \n",
    " 'rec.motorcycles',\n",
    " \n",
    " 'rec.sport.baseball',\n",
    " \n",
    " 'rec.sport.hockey',\n",
    " \n",
    " 'sci.crypt',\n",
    " \n",
    " 'sci.electronics',\n",
    " \n",
    " 'sci.med',\n",
    " \n",
    " 'sci.space',\n",
    " \n",
    " 'soc.religion.christian',\n",
    " \n",
    " 'talk.politics.guns',\n",
    " \n",
    " 'talk.politics.mideast',\n",
    " \n",
    " 'talk.politics.misc',\n",
    " \n",
    " 'talk.religion.misc'"
   ]
  },
  {
   "cell_type": "code",
   "execution_count": 0,
   "metadata": {
    "colab": {},
    "colab_type": "code",
    "id": "rxShtqBkxSFS"
   },
   "outputs": [],
   "source": [
    "import pandas as pd\n",
    "news_result = pd.DataFrame(title_30,columns=[\"title\"])\n",
    "news_result[\"subject\"] = gs_clf_svm.predict(news_30)\n",
    "news_result = news_result.replace({9:\"rec.motorcycles\",10:\"rec.sport.baseball\",11:\"rec.sport.hockey\",12:\"sci.crypt\",13:\"sci.electronics\",14:\"sci.med\",15:\"sci.space\",16:\"soc.religion.christian\",17:\"talk.politics.guns\",18:\"talk.politics.mideast\",19:\"talk.politics.misc\",20:\"talk.religion.misc\"})"
   ]
  },
  {
   "cell_type": "code",
   "execution_count": 0,
   "metadata": {
    "colab": {},
    "colab_type": "code",
    "id": "dkRzynM62uJL"
   },
   "outputs": [],
   "source": [
    "news_result.to_csv (\"text_news.csv\" , encoding = \"utf-8\")"
   ]
  },
  {
   "cell_type": "code",
   "execution_count": 0,
   "metadata": {
    "colab": {
     "base_uri": "https://localhost:8080/",
     "height": 34
    },
    "colab_type": "code",
    "id": "hbe9nyVm3rEs",
    "outputId": "1dad1789-bd61-4c93-9827-7e7702d6d5a2"
   },
   "outputs": [
    {
     "name": "stdout",
     "output_type": "stream",
     "text": [
      "sample_data  text  text_news.csv\n"
     ]
    }
   ],
   "source": [
    "!ls"
   ]
  },
  {
   "cell_type": "code",
   "execution_count": 0,
   "metadata": {
    "colab": {},
    "colab_type": "code",
    "id": "dxp89cQG3Y_t"
   },
   "outputs": [],
   "source": [
    "from google.colab import files\n",
    "\n",
    "\n",
    "files.download('text_news.csv')"
   ]
  },
  {
   "cell_type": "markdown",
   "metadata": {
    "colab_type": "text",
    "id": "rcHLml9lDtOQ"
   },
   "source": [
    "# Stemming using NLTK"
   ]
  },
  {
   "cell_type": "markdown",
   "metadata": {
    "colab_type": "text",
    "id": "o46PJ-EIDtOQ"
   },
   "source": [
    "## Stemming is the process of reducing a word to its word stem that affixes to suffixes and prefixes or to the roots of words known as a lemma. Stemming help you improve your model performances"
   ]
  },
  {
   "cell_type": "markdown",
   "metadata": {
    "colab_type": "text",
    "id": "-_TuCXfSDtOR"
   },
   "source": [
    "## Stop words removal is also an other technique used in text classification in order to improve the model performances : Take a look at this webpage for more information : https://www.geeksforgeeks.org/removing-stop-words-nltk-python/"
   ]
  },
  {
   "cell_type": "code",
   "execution_count": 0,
   "metadata": {
    "colab": {
     "base_uri": "https://localhost:8080/",
     "height": 266
    },
    "colab_type": "code",
    "id": "SNBNkw4BDtOR",
    "outputId": "f1d3e350-ba90-4297-86cd-bcd32887eced"
   },
   "outputs": [
    {
     "name": "stdout",
     "output_type": "stream",
     "text": [
      "[nltk_data] Downloading package stopwords to /root/nltk_data...\n",
      "[nltk_data]   Unzipping corpora/stopwords.zip.\n"
     ]
    },
    {
     "ename": "IOError",
     "evalue": "ignored",
     "output_type": "error",
     "traceback": [
      "\u001b[0;31m\u001b[0m",
      "\u001b[0;31mIOError\u001b[0mTraceback (most recent call last)",
      "\u001b[0;32m<ipython-input-37-3269efb11a3c>\u001b[0m in \u001b[0;36m<module>\u001b[0;34m()\u001b[0m\n\u001b[1;32m      8\u001b[0m \u001b[0;31m#word_tokenize accepts a string as an input, not a file.\u001b[0m\u001b[0;34m\u001b[0m\u001b[0;34m\u001b[0m\u001b[0m\n\u001b[1;32m      9\u001b[0m \u001b[0mstop_words\u001b[0m \u001b[0;34m=\u001b[0m \u001b[0mset\u001b[0m\u001b[0;34m(\u001b[0m\u001b[0mstopwords\u001b[0m\u001b[0;34m.\u001b[0m\u001b[0mwords\u001b[0m\u001b[0;34m(\u001b[0m\u001b[0;34m'english'\u001b[0m\u001b[0;34m)\u001b[0m\u001b[0;34m)\u001b[0m\u001b[0;34m\u001b[0m\u001b[0m\n\u001b[0;32m---> 10\u001b[0;31m \u001b[0mfile1\u001b[0m \u001b[0;34m=\u001b[0m \u001b[0mopen\u001b[0m\u001b[0;34m(\u001b[0m\u001b[0;34m\"text.txt\"\u001b[0m\u001b[0;34m)\u001b[0m\u001b[0;34m\u001b[0m\u001b[0m\n\u001b[0m\u001b[1;32m     11\u001b[0m \u001b[0mline\u001b[0m \u001b[0;34m=\u001b[0m \u001b[0mfile1\u001b[0m\u001b[0;34m.\u001b[0m\u001b[0mread\u001b[0m\u001b[0;34m(\u001b[0m\u001b[0;34m)\u001b[0m\u001b[0;31m# Use this to read file content as a stream:\u001b[0m\u001b[0;34m\u001b[0m\u001b[0m\n\u001b[1;32m     12\u001b[0m \u001b[0mwords\u001b[0m \u001b[0;34m=\u001b[0m \u001b[0mline\u001b[0m\u001b[0;34m.\u001b[0m\u001b[0msplit\u001b[0m\u001b[0;34m(\u001b[0m\u001b[0;34m)\u001b[0m\u001b[0;34m\u001b[0m\u001b[0m\n",
      "\u001b[0;31mIOError\u001b[0m: [Errno 2] No such file or directory: 'text.txt'"
     ]
    }
   ],
   "source": [
    "import io \n",
    "from nltk.corpus import stopwords \n",
    "from nltk.tokenize import word_tokenize \n",
    "import nltk \n",
    "from nltk.corpus import stopwords\n",
    "nltk.download('stopwords')\n",
    "set(stopwords.words('english'))\n",
    "#word_tokenize accepts a string as an input, not a file. \n",
    "stop_words = set(stopwords.words('english')) \n",
    "file1 = open(\"text.txt\") \n",
    "line = file1.read()# Use this to read file content as a stream: \n",
    "words = line.split() \n",
    "for r in words: \n",
    "    if not r in stop_words: \n",
    "        appendFile = open('filteredtext.txt','a') \n",
    "        appendFile.write(\" \"+r) \n",
    "        appendFile.close() "
   ]
  }
 ],
 "metadata": {
  "colab": {
   "name": "Tutorial 3 Text Classification.ipynb",
   "provenance": [],
   "toc_visible": true,
   "version": "0.3.2"
  },
  "kernelspec": {
   "display_name": "Python 3",
   "language": "python",
   "name": "python3"
  },
  "language_info": {
   "codemirror_mode": {
    "name": "ipython",
    "version": 3
   },
   "file_extension": ".py",
   "mimetype": "text/x-python",
   "name": "python",
   "nbconvert_exporter": "python",
   "pygments_lexer": "ipython3",
   "version": "3.6.4"
  }
 },
 "nbformat": 4,
 "nbformat_minor": 1
}
