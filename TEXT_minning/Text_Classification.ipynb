{
 "cells": [
  {
   "cell_type": "markdown",
   "metadata": {
    "colab_type": "text",
    "id": "8c4V7KLZDtNv"
   },
   "source": [
    "# PROJET：From knowledge extraction to knowledge representation\n",
    "## Extract knowledge from text using Naîve Bayes and SVM"
   ]
  },
  {
   "cell_type": "markdown",
   "metadata": {},
   "source": [
    "## Use google colab to upload the files into google driver"
   ]
  },
  {
   "cell_type": "markdown",
   "metadata": {
    "colab": {
     "base_uri": "https://localhost:8080/",
     "height": 1708,
     "resources": {
      "http://localhost:8080/nbextensions/google.colab/files.js": {
       "data": "Ly8gQ29weXJpZ2h0IDIwMTcgR29vZ2xlIExMQwovLwovLyBMaWNlbnNlZCB1bmRlciB0aGUgQXBhY2hlIExpY2Vuc2UsIFZlcnNpb24gMi4wICh0aGUgIkxpY2Vuc2UiKTsKLy8geW91IG1heSBub3QgdXNlIHRoaXMgZmlsZSBleGNlcHQgaW4gY29tcGxpYW5jZSB3aXRoIHRoZSBMaWNlbnNlLgovLyBZb3UgbWF5IG9idGFpbiBhIGNvcHkgb2YgdGhlIExpY2Vuc2UgYXQKLy8KLy8gICAgICBodHRwOi8vd3d3LmFwYWNoZS5vcmcvbGljZW5zZXMvTElDRU5TRS0yLjAKLy8KLy8gVW5sZXNzIHJlcXVpcmVkIGJ5IGFwcGxpY2FibGUgbGF3IG9yIGFncmVlZCB0byBpbiB3cml0aW5nLCBzb2Z0d2FyZQovLyBkaXN0cmlidXRlZCB1bmRlciB0aGUgTGljZW5zZSBpcyBkaXN0cmlidXRlZCBvbiBhbiAiQVMgSVMiIEJBU0lTLAovLyBXSVRIT1VUIFdBUlJBTlRJRVMgT1IgQ09ORElUSU9OUyBPRiBBTlkgS0lORCwgZWl0aGVyIGV4cHJlc3Mgb3IgaW1wbGllZC4KLy8gU2VlIHRoZSBMaWNlbnNlIGZvciB0aGUgc3BlY2lmaWMgbGFuZ3VhZ2UgZ292ZXJuaW5nIHBlcm1pc3Npb25zIGFuZAovLyBsaW1pdGF0aW9ucyB1bmRlciB0aGUgTGljZW5zZS4KCi8qKgogKiBAZmlsZW92ZXJ2aWV3IEhlbHBlcnMgZm9yIGdvb2dsZS5jb2xhYiBQeXRob24gbW9kdWxlLgogKi8KKGZ1bmN0aW9uKHNjb3BlKSB7CmZ1bmN0aW9uIHNwYW4odGV4dCwgc3R5bGVBdHRyaWJ1dGVzID0ge30pIHsKICBjb25zdCBlbGVtZW50ID0gZG9jdW1lbnQuY3JlYXRlRWxlbWVudCgnc3BhbicpOwogIGVsZW1lbnQudGV4dENvbnRlbnQgPSB0ZXh0OwogIGZvciAoY29uc3Qga2V5IG9mIE9iamVjdC5rZXlzKHN0eWxlQXR0cmlidXRlcykpIHsKICAgIGVsZW1lbnQuc3R5bGVba2V5XSA9IHN0eWxlQXR0cmlidXRlc1trZXldOwogIH0KICByZXR1cm4gZWxlbWVudDsKfQoKLy8gTWF4IG51bWJlciBvZiBieXRlcyB3aGljaCB3aWxsIGJlIHVwbG9hZGVkIGF0IGEgdGltZS4KY29uc3QgTUFYX1BBWUxPQURfU0laRSA9IDEwMCAqIDEwMjQ7Ci8vIE1heCBhbW91bnQgb2YgdGltZSB0byBibG9jayB3YWl0aW5nIGZvciB0aGUgdXNlci4KY29uc3QgRklMRV9DSEFOR0VfVElNRU9VVF9NUyA9IDMwICogMTAwMDsKCmZ1bmN0aW9uIF91cGxvYWRGaWxlcyhpbnB1dElkLCBvdXRwdXRJZCkgewogIGNvbnN0IHN0ZXBzID0gdXBsb2FkRmlsZXNTdGVwKGlucHV0SWQsIG91dHB1dElkKTsKICBjb25zdCBvdXRwdXRFbGVtZW50ID0gZG9jdW1lbnQuZ2V0RWxlbWVudEJ5SWQob3V0cHV0SWQpOwogIC8vIENhY2hlIHN0ZXBzIG9uIHRoZSBvdXRwdXRFbGVtZW50IHRvIG1ha2UgaXQgYXZhaWxhYmxlIGZvciB0aGUgbmV4dCBjYWxsCiAgLy8gdG8gdXBsb2FkRmlsZXNDb250aW51ZSBmcm9tIFB5dGhvbi4KICBvdXRwdXRFbGVtZW50LnN0ZXBzID0gc3RlcHM7CgogIHJldHVybiBfdXBsb2FkRmlsZXNDb250aW51ZShvdXRwdXRJZCk7Cn0KCi8vIFRoaXMgaXMgcm91Z2hseSBhbiBhc3luYyBnZW5lcmF0b3IgKG5vdCBzdXBwb3J0ZWQgaW4gdGhlIGJyb3dzZXIgeWV0KSwKLy8gd2hlcmUgdGhlcmUgYXJlIG11bHRpcGxlIGFzeW5jaHJvbm91cyBzdGVwcyBhbmQgdGhlIFB5dGhvbiBzaWRlIGlzIGdvaW5nCi8vIHRvIHBvbGwgZm9yIGNvbXBsZXRpb24gb2YgZWFjaCBzdGVwLgovLyBUaGlzIHVzZXMgYSBQcm9taXNlIHRvIGJsb2NrIHRoZSBweXRob24gc2lkZSBvbiBjb21wbGV0aW9uIG9mIGVhY2ggc3RlcCwKLy8gdGhlbiBwYXNzZXMgdGhlIHJlc3VsdCBvZiB0aGUgcHJldmlvdXMgc3RlcCBhcyB0aGUgaW5wdXQgdG8gdGhlIG5leHQgc3RlcC4KZnVuY3Rpb24gX3VwbG9hZEZpbGVzQ29udGludWUob3V0cHV0SWQpIHsKICBjb25zdCBvdXRwdXRFbGVtZW50ID0gZG9jdW1lbnQuZ2V0RWxlbWVudEJ5SWQob3V0cHV0SWQpOwogIGNvbnN0IHN0ZXBzID0gb3V0cHV0RWxlbWVudC5zdGVwczsKCiAgY29uc3QgbmV4dCA9IHN0ZXBzLm5leHQob3V0cHV0RWxlbWVudC5sYXN0UHJvbWlzZVZhbHVlKTsKICByZXR1cm4gUHJvbWlzZS5yZXNvbHZlKG5leHQudmFsdWUucHJvbWlzZSkudGhlbigodmFsdWUpID0+IHsKICAgIC8vIENhY2hlIHRoZSBsYXN0IHByb21pc2UgdmFsdWUgdG8gbWFrZSBpdCBhdmFpbGFibGUgdG8gdGhlIG5leHQKICAgIC8vIHN0ZXAgb2YgdGhlIGdlbmVyYXRvci4KICAgIG91dHB1dEVsZW1lbnQubGFzdFByb21pc2VWYWx1ZSA9IHZhbHVlOwogICAgcmV0dXJuIG5leHQudmFsdWUucmVzcG9uc2U7CiAgfSk7Cn0KCi8qKgogKiBHZW5lcmF0b3IgZnVuY3Rpb24gd2hpY2ggaXMgY2FsbGVkIGJldHdlZW4gZWFjaCBhc3luYyBzdGVwIG9mIHRoZSB1cGxvYWQKICogcHJvY2Vzcy4KICogQHBhcmFtIHtzdHJpbmd9IGlucHV0SWQgRWxlbWVudCBJRCBvZiB0aGUgaW5wdXQgZmlsZSBwaWNrZXIgZWxlbWVudC4KICogQHBhcmFtIHtzdHJpbmd9IG91dHB1dElkIEVsZW1lbnQgSUQgb2YgdGhlIG91dHB1dCBkaXNwbGF5LgogKiBAcmV0dXJuIHshSXRlcmFibGU8IU9iamVjdD59IEl0ZXJhYmxlIG9mIG5leHQgc3RlcHMuCiAqLwpmdW5jdGlvbiogdXBsb2FkRmlsZXNTdGVwKGlucHV0SWQsIG91dHB1dElkKSB7CiAgY29uc3QgaW5wdXRFbGVtZW50ID0gZG9jdW1lbnQuZ2V0RWxlbWVudEJ5SWQoaW5wdXRJZCk7CiAgaW5wdXRFbGVtZW50LmRpc2FibGVkID0gZmFsc2U7CgogIGNvbnN0IG91dHB1dEVsZW1lbnQgPSBkb2N1bWVudC5nZXRFbGVtZW50QnlJZChvdXRwdXRJZCk7CiAgb3V0cHV0RWxlbWVudC5pbm5lckhUTUwgPSAnJzsKCiAgY29uc3QgcGlja2VkUHJvbWlzZSA9IG5ldyBQcm9taXNlKChyZXNvbHZlKSA9PiB7CiAgICBpbnB1dEVsZW1lbnQuYWRkRXZlbnRMaXN0ZW5lcignY2hhbmdlJywgKGUpID0+IHsKICAgICAgcmVzb2x2ZShlLnRhcmdldC5maWxlcyk7CiAgICB9KTsKICB9KTsKCiAgY29uc3QgY2FuY2VsID0gZG9jdW1lbnQuY3JlYXRlRWxlbWVudCgnYnV0dG9uJyk7CiAgaW5wdXRFbGVtZW50LnBhcmVudEVsZW1lbnQuYXBwZW5kQ2hpbGQoY2FuY2VsKTsKICBjYW5jZWwudGV4dENvbnRlbnQgPSAnQ2FuY2VsIHVwbG9hZCc7CiAgY29uc3QgY2FuY2VsUHJvbWlzZSA9IG5ldyBQcm9taXNlKChyZXNvbHZlKSA9PiB7CiAgICBjYW5jZWwub25jbGljayA9ICgpID0+IHsKICAgICAgcmVzb2x2ZShudWxsKTsKICAgIH07CiAgfSk7CgogIC8vIENhbmNlbCB1cGxvYWQgaWYgdXNlciBoYXNuJ3QgcGlja2VkIGFueXRoaW5nIGluIHRpbWVvdXQuCiAgY29uc3QgdGltZW91dFByb21pc2UgPSBuZXcgUHJvbWlzZSgocmVzb2x2ZSkgPT4gewogICAgc2V0VGltZW91dCgoKSA9PiB7CiAgICAgIHJlc29sdmUobnVsbCk7CiAgICB9LCBGSUxFX0NIQU5HRV9USU1FT1VUX01TKTsKICB9KTsKCiAgLy8gV2FpdCBmb3IgdGhlIHVzZXIgdG8gcGljayB0aGUgZmlsZXMuCiAgY29uc3QgZmlsZXMgPSB5aWVsZCB7CiAgICBwcm9taXNlOiBQcm9taXNlLnJhY2UoW3BpY2tlZFByb21pc2UsIHRpbWVvdXRQcm9taXNlLCBjYW5jZWxQcm9taXNlXSksCiAgICByZXNwb25zZTogewogICAgICBhY3Rpb246ICdzdGFydGluZycsCiAgICB9CiAgfTsKCiAgaWYgKCFmaWxlcykgewogICAgcmV0dXJuIHsKICAgICAgcmVzcG9uc2U6IHsKICAgICAgICBhY3Rpb246ICdjb21wbGV0ZScsCiAgICAgIH0KICAgIH07CiAgfQoKICBjYW5jZWwucmVtb3ZlKCk7CgogIC8vIERpc2FibGUgdGhlIGlucHV0IGVsZW1lbnQgc2luY2UgZnVydGhlciBwaWNrcyBhcmUgbm90IGFsbG93ZWQuCiAgaW5wdXRFbGVtZW50LmRpc2FibGVkID0gdHJ1ZTsKCiAgZm9yIChjb25zdCBmaWxlIG9mIGZpbGVzKSB7CiAgICBjb25zdCBsaSA9IGRvY3VtZW50LmNyZWF0ZUVsZW1lbnQoJ2xpJyk7CiAgICBsaS5hcHBlbmQoc3BhbihmaWxlLm5hbWUsIHtmb250V2VpZ2h0OiAnYm9sZCd9KSk7CiAgICBsaS5hcHBlbmQoc3BhbigKICAgICAgICBgKCR7ZmlsZS50eXBlIHx8ICduL2EnfSkgLSAke2ZpbGUuc2l6ZX0gYnl0ZXMsIGAgKwogICAgICAgIGBsYXN0IG1vZGlmaWVkOiAkewogICAgICAgICAgICBmaWxlLmxhc3RNb2RpZmllZERhdGUgPyBmaWxlLmxhc3RNb2RpZmllZERhdGUudG9Mb2NhbGVEYXRlU3RyaW5nKCkgOgogICAgICAgICAgICAgICAgICAgICAgICAgICAgICAgICAgICAnbi9hJ30gLSBgKSk7CiAgICBjb25zdCBwZXJjZW50ID0gc3BhbignMCUgZG9uZScpOwogICAgbGkuYXBwZW5kQ2hpbGQocGVyY2VudCk7CgogICAgb3V0cHV0RWxlbWVudC5hcHBlbmRDaGlsZChsaSk7CgogICAgY29uc3QgZmlsZURhdGFQcm9taXNlID0gbmV3IFByb21pc2UoKHJlc29sdmUpID0+IHsKICAgICAgY29uc3QgcmVhZGVyID0gbmV3IEZpbGVSZWFkZXIoKTsKICAgICAgcmVhZGVyLm9ubG9hZCA9IChlKSA9PiB7CiAgICAgICAgcmVzb2x2ZShlLnRhcmdldC5yZXN1bHQpOwogICAgICB9OwogICAgICByZWFkZXIucmVhZEFzQXJyYXlCdWZmZXIoZmlsZSk7CiAgICB9KTsKICAgIC8vIFdhaXQgZm9yIHRoZSBkYXRhIHRvIGJlIHJlYWR5LgogICAgbGV0IGZpbGVEYXRhID0geWllbGQgewogICAgICBwcm9taXNlOiBmaWxlRGF0YVByb21pc2UsCiAgICAgIHJlc3BvbnNlOiB7CiAgICAgICAgYWN0aW9uOiAnY29udGludWUnLAogICAgICB9CiAgICB9OwoKICAgIC8vIFVzZSBhIGNodW5rZWQgc2VuZGluZyB0byBhdm9pZCBtZXNzYWdlIHNpemUgbGltaXRzLiBTZWUgYi82MjExNTY2MC4KICAgIGxldCBwb3NpdGlvbiA9IDA7CiAgICB3aGlsZSAocG9zaXRpb24gPCBmaWxlRGF0YS5ieXRlTGVuZ3RoKSB7CiAgICAgIGNvbnN0IGxlbmd0aCA9IE1hdGgubWluKGZpbGVEYXRhLmJ5dGVMZW5ndGggLSBwb3NpdGlvbiwgTUFYX1BBWUxPQURfU0laRSk7CiAgICAgIGNvbnN0IGNodW5rID0gbmV3IFVpbnQ4QXJyYXkoZmlsZURhdGEsIHBvc2l0aW9uLCBsZW5ndGgpOwogICAgICBwb3NpdGlvbiArPSBsZW5ndGg7CgogICAgICBjb25zdCBiYXNlNjQgPSBidG9hKFN0cmluZy5mcm9tQ2hhckNvZGUuYXBwbHkobnVsbCwgY2h1bmspKTsKICAgICAgeWllbGQgewogICAgICAgIHJlc3BvbnNlOiB7CiAgICAgICAgICBhY3Rpb246ICdhcHBlbmQnLAogICAgICAgICAgZmlsZTogZmlsZS5uYW1lLAogICAgICAgICAgZGF0YTogYmFzZTY0LAogICAgICAgIH0sCiAgICAgIH07CiAgICAgIHBlcmNlbnQudGV4dENvbnRlbnQgPQogICAgICAgICAgYCR7TWF0aC5yb3VuZCgocG9zaXRpb24gLyBmaWxlRGF0YS5ieXRlTGVuZ3RoKSAqIDEwMCl9JSBkb25lYDsKICAgIH0KICB9CgogIC8vIEFsbCBkb25lLgogIHlpZWxkIHsKICAgIHJlc3BvbnNlOiB7CiAgICAgIGFjdGlvbjogJ2NvbXBsZXRlJywKICAgIH0KICB9Owp9CgpzY29wZS5nb29nbGUgPSBzY29wZS5nb29nbGUgfHwge307CnNjb3BlLmdvb2dsZS5jb2xhYiA9IHNjb3BlLmdvb2dsZS5jb2xhYiB8fCB7fTsKc2NvcGUuZ29vZ2xlLmNvbGFiLl9maWxlcyA9IHsKICBfdXBsb2FkRmlsZXMsCiAgX3VwbG9hZEZpbGVzQ29udGludWUsCn07Cn0pKHNlbGYpOwo=",
       "headers": [
        [
         "content-type",
         "application/javascript"
        ]
       ],
       "ok": true,
       "status": 200,
       "status_text": ""
      }
     }
    },
    "colab_type": "code",
    "id": "ThaKx3RuPWbL",
    "outputId": "ce6b2587-6976-493b-d948-845e9d87abdc"
   },
   "source": [
    "from google.colab import files\n",
    "\n",
    "!mkdir text\n",
    "\n",
    "uploaded = files.upload()\n",
    "\n",
    "for fn in uploaded.keys():\n",
    "  print('User uploaded file \"{name}\" with length {length} bytes'.format(\n",
    "       name=fn, length=len(uploaded[fn])))\n",
    "\n",
    "!mv *.txt ./text\n",
    "!ls ./text"
   ]
  },
  {
   "cell_type": "markdown",
   "metadata": {},
   "source": [
    "## Load training set and test set\n",
    "__ Data Sources: fetch_20newsgroups"
   ]
  },
  {
   "cell_type": "code",
   "execution_count": 84,
   "metadata": {
    "colab": {},
    "colab_type": "code",
    "id": "YHgLHcc6DtNv"
   },
   "outputs": [],
   "source": [
    "#Loading the data set - training data.\n",
    "from sklearn.datasets import fetch_20newsgroups\n",
    "twenty_train = fetch_20newsgroups(subset='train', shuffle=True)\n",
    "twenty_test = fetch_20newsgroups(subset='test')"
   ]
  },
  {
   "cell_type": "markdown",
   "metadata": {},
   "source": [
    "# Removing stop words with NLTK"
   ]
  },
  {
   "cell_type": "code",
   "execution_count": 85,
   "metadata": {},
   "outputs": [
    {
     "name": "stdout",
     "output_type": "stream",
     "text": [
      "[nltk_data] Downloading package stopwords to\n",
      "[nltk_data]     C:\\Users\\William\\AppData\\Roaming\\nltk_data...\n",
      "[nltk_data]   Package stopwords is already up-to-date!\n"
     ]
    }
   ],
   "source": [
    "import io \n",
    "from nltk.corpus import stopwords \n",
    "from nltk.tokenize import word_tokenize \n",
    "import nltk \n",
    "from nltk.corpus import stopwords\n",
    "nltk.download('stopwords')\n",
    "#word_tokenize accepts a string as an input, not a file. \n",
    "def remove_stopwords(word_list):\n",
    "        processed_word_list = []\n",
    "        for word in word_list:\n",
    "            word = word.lower() # in case they arenet all lower cased\n",
    "            if word not in stopwords.words(\"english\"):\n",
    "                processed_word_list.append(word)\n",
    "        return processed_word_list"
   ]
  },
  {
   "cell_type": "markdown",
   "metadata": {},
   "source": [
    "## View 30 news in the system path"
   ]
  },
  {
   "cell_type": "code",
   "execution_count": 86,
   "metadata": {
    "colab": {},
    "colab_type": "code",
    "id": "ckD4XQIneXR0"
   },
   "outputs": [],
   "source": [
    "#打开所有TXT文档\n",
    "import os\n",
    "import codecs\n",
    "import io\n",
    "filepath = \"./NEWS_AI/NEWS\"\n",
    "text_name = os.listdir(\"./NEWS_AI/NEWS\")\n",
    "article_30 = []\n",
    "title_30 = []\n",
    "document_30 = []\n",
    "news_30 = []\n",
    "datas = set()\n",
    "i = 0\n",
    "for s in text_name:\n",
    "    newDir=os.path.join(filepath,s)     #将文件命加入到当前文件路径后面\n",
    "    if os.path.isfile(newDir) :         #如果是文件\n",
    "        if os.path.splitext(newDir)[1]==\".txt\":  #判断是否是txt\n",
    "            i = i+1\n",
    "            f = codecs.open(newDir,encoding='utf-8', errors='ignore').read()\n",
    "            news_30.append(f)\n",
    "            words = f.split()\n",
    "            article_30.append(\" \".join(remove_stopwords(words)))\n",
    "            title_30.append(os.path.splitext(newDir)[0].replace(\"./NEWS_AI/NEWS\\\\\",\"\"))\n",
    "            document_30.append(\"document\"+str(i))\n",
    "            datas.add(f)\n",
    "        pass\n",
    "    else:\n",
    "        eachFile(newDir)                #如果不是文件，递归这个文件夹的路径\n"
   ]
  },
  {
   "cell_type": "code",
   "execution_count": 87,
   "metadata": {
    "colab": {
     "base_uri": "https://localhost:8080/",
     "height": 521
    },
    "colab_type": "code",
    "id": "Z2ZsjK75sUIA",
    "outputId": "21eca32d-a49d-4096-fd13-6d326f17fdc5"
   },
   "outputs": [
    {
     "data": {
      "text/plain": [
       "'Around the NBA skepticism over whether Wizards would actually trade John Wall or Bradley Beal'"
      ]
     },
     "execution_count": 87,
     "metadata": {},
     "output_type": "execute_result"
    }
   ],
   "source": [
    "title_30[1]"
   ]
  },
  {
   "cell_type": "code",
   "execution_count": 88,
   "metadata": {},
   "outputs": [
    {
     "data": {
      "text/plain": [
       "'document2'"
      ]
     },
     "execution_count": 88,
     "metadata": {},
     "output_type": "execute_result"
    }
   ],
   "source": [
    "document_30[1]"
   ]
  },
  {
   "cell_type": "code",
   "execution_count": 89,
   "metadata": {},
   "outputs": [
    {
     "data": {
      "text/plain": [
       "\"Around the NBA, skepticism over whether Wizards would actually trade John Wall or Bradley Beal\\r\\n \\r\\nCould the Wizards' backcourt be headed toward a breakup? Other teams don't seem to think so. (John McDonnell/The Washington Post)\\r\\nBy Candace Buckner November 19 at 5:22 PM\\r\\nBradley Beal checks his phone just like anyone else. He has read the rumors about the Washington Wizards and their sudden inclination to discuss potential trades involving Beal or fellow all-star guard John Wall.\\r\\n\\r\\nFollowing the Wizards' latest indifferent performance that resulted in a loss, ESPNs Adrian Wojnarowski reported Monday that Washingtons management has signaled to other teams an impression that every player on their roster could be available for trade discussions.\\r\\n\\r\\nIm not going to be naive to it, you know, said Beal, who saw the report. Ive heard those rumors weeks ago. Then, I didnt buy into them. Now, Im still not going to buy into them because if thats my main priority and focus, then Im going to be messed up on the floor.\\r\\n\\r\\nBeals disbelief is apparently warranted.\\r\\n\\r\\nAlthough Washington may be floundering during a 5-11 start to the season, there is a belief that the team has no plans to move on from either of its franchise cornerstones, based on conversations with multiple people in the league who have familiarity with the Wizards and how their front office operates. A Wizards spokesman, meanwhile, cited team policy by saying President of Basketball Operations Ernie Grunfeld doesnt comment on rumors, so he wont comment on this one.\\r\\n\\r\\n\\r\\nWhile Otto Porter Jr.'s name has been attached to multiple rumors, there has been little traction on any deal involving him, according to several people with knowledge of the situation. The doubt surrounding the availability of Porter, who re-signed with Washington in 2016 for a maximum contract, casts more uncertainty on the Wizards' openness to even discuss Wall or Beal.\\r\\n\\r\\nBeal, 25, and Wall, 28, have formed the Wizards' starting backcourt for seven straight seasons. The longevity of their relationship is a rarity in the NBA  only two other sets of teammates have started at least one game together every season since 2012-13. Together, the Wall-Beal duo has rewritten the franchise record books.\\r\\n\\r\\nBeal owns the Wizards/Bullets' single-season mark for most three-pointers (223) and has 904 triples in his seven-year career. Wall tops the franchise list in career assists (5,129) and steals (959). This season, the Wizards have continued to focus the team around both players, as evidenced by the offense.\\r\\n\\r\\n\\r\\nWall and Beal each average more than 20 points  while the teams third scorer, Dwight Howard, has contributed 12.8 points per game through nine appearances  and the tandem also leads the Wizards with the highest usage rates among regular rotation players. As the faces of the franchises, both players have signed maximum contracts. Walls supermax pact kicks in next season and will play him $38 million in the first year of a four-year deal.\\r\\n\\r\\nBut in leading the franchise on the court and on the salary ledger, Wall and Beal have faced mounting blame for the teams horrid start. After a stinging loss to the Sacramento Kings on Oct. 26, the players appeared to be in lockstep in pointing out what they perceived as conflicting agendas within the locker room. Since then, however, there seems to have been a shift when they speak to reporters.\\r\\n\\r\\nI put that on myself. I feel like being a leader on the team, you have to make sure your troops are all still intact and everyone is on the same page no matter how difficult it may look, no matter what type of adversity we may face  which is what we are going through now, Beal said after a Nov. 2 loss to the Oklahoma City Thunder. As one of the captains on the team, I put a lot of responsibility on my shoulders. I have to be better leadership-wise on the floor, giving more and leading by example, and hopefully guys  follow.\\r\\n\\r\\n\\r\\nThe afternoon following Sundays 119-109 loss, in which the starters walked off the court trailing the Portland Trail Blazers by 19 points and had no part in the energetic comeback during the fourth quarter, Coach Scott Brooks shared his thoughts on the report about the team being open to include either all-star in trade scenarios.\\r\\n\\r\\nWhen asked if he would be surprised if the Wizards made a deal involving Wall or Beal, Brooks responded: I mean, like I said, the start that were having, theres going to be rumors. Its just part of the business. Its just part of it. Ive been in the league a long time. Thats just always been the case. We havent played well. Nobodys hiding from it. Nobodys running from it. We have to play better. I have to do a better job. Our guys have to do a better job as well. Regardless of what we hear out there, that has nothing to do with what we have to do each day and that is to prepare and to improve and to figure out ways in which to get some wins.\""
      ]
     },
     "execution_count": 89,
     "metadata": {},
     "output_type": "execute_result"
    }
   ],
   "source": [
    "news_30[1]"
   ]
  },
  {
   "cell_type": "code",
   "execution_count": 90,
   "metadata": {},
   "outputs": [
    {
     "data": {
      "text/plain": [
       "\"around nba, skepticism whether wizards would actually trade john wall bradley beal could wizards' backcourt headed toward breakup? teams seem think so. (john mcdonnell/the washington post) candace buckner november 19 5:22 pm bradley beal checks phone like anyone else. read rumors washington wizards sudden inclination discuss potential trades involving beal fellow all-star guard john wall. following wizards' latest indifferent performance resulted loss, espns adrian wojnarowski reported monday washingtons management signaled teams impression every player roster could available trade discussions. im going naive it, know, said beal, saw report. ive heard rumors weeks ago. then, didnt buy them. now, im still going buy thats main priority focus, im going messed floor. beals disbelief apparently warranted. although washington may floundering 5-11 start season, belief team plans move either franchise cornerstones, based conversations multiple people league familiarity wizards front office operates. wizards spokesman, meanwhile, cited team policy saying president basketball operations ernie grunfeld doesnt comment rumors, wont comment one. otto porter jr.'s name attached multiple rumors, little traction deal involving him, according several people knowledge situation. doubt surrounding availability porter, re-signed washington 2016 maximum contract, casts uncertainty wizards' openness even discuss wall beal. beal, 25, wall, 28, formed wizards' starting backcourt seven straight seasons. longevity relationship rarity nba two sets teammates started least one game together every season since 2012-13. together, wall-beal duo rewritten franchise record books. beal owns wizards/bullets' single-season mark three-pointers (223) 904 triples seven-year career. wall tops franchise list career assists (5,129) steals (959). season, wizards continued focus team around players, evidenced offense. wall beal average 20 points teams third scorer, dwight howard, contributed 12.8 points per game nine appearances tandem also leads wizards highest usage rates among regular rotation players. faces franchises, players signed maximum contracts. walls supermax pact kicks next season play $38 million first year four-year deal. leading franchise court salary ledger, wall beal faced mounting blame teams horrid start. stinging loss sacramento kings oct. 26, players appeared lockstep pointing perceived conflicting agendas within locker room. since then, however, seems shift speak reporters. put myself. feel like leader team, make sure troops still intact everyone page matter difficult may look, matter type adversity may face going now, beal said nov. 2 loss oklahoma city thunder. one captains team, put lot responsibility shoulders. better leadership-wise floor, giving leading example, hopefully guys follow. afternoon following sundays 119-109 loss, starters walked court trailing portland trail blazers 19 points part energetic comeback fourth quarter, coach scott brooks shared thoughts report team open include either all-star trade scenarios. asked would surprised wizards made deal involving wall beal, brooks responded: mean, like said, start having, theres going rumors. part business. part it. ive league long time. thats always case. havent played well. nobodys hiding it. nobodys running it. play better. better job. guys better job well. regardless hear there, nothing day prepare improve figure ways get wins.\""
      ]
     },
     "execution_count": 90,
     "metadata": {},
     "output_type": "execute_result"
    }
   ],
   "source": [
    "article_30[1]"
   ]
  },
  {
   "cell_type": "markdown",
   "metadata": {
    "colab_type": "text",
    "id": "okjLRaSZDtNz"
   },
   "source": [
    "# Print the categories names and some text examples"
   ]
  },
  {
   "cell_type": "code",
   "execution_count": 91,
   "metadata": {
    "colab": {
     "base_uri": "https://localhost:8080/",
     "height": 353
    },
    "colab_type": "code",
    "id": "UUae3EPJDtNz",
    "outputId": "742a93e8-81d9-4009-990c-572997e36144"
   },
   "outputs": [
    {
     "data": {
      "text/plain": [
       "['alt.atheism',\n",
       " 'comp.graphics',\n",
       " 'comp.os.ms-windows.misc',\n",
       " 'comp.sys.ibm.pc.hardware',\n",
       " 'comp.sys.mac.hardware',\n",
       " 'comp.windows.x',\n",
       " 'misc.forsale',\n",
       " 'rec.autos',\n",
       " 'rec.motorcycles',\n",
       " 'rec.sport.baseball',\n",
       " 'rec.sport.hockey',\n",
       " 'sci.crypt',\n",
       " 'sci.electronics',\n",
       " 'sci.med',\n",
       " 'sci.space',\n",
       " 'soc.religion.christian',\n",
       " 'talk.politics.guns',\n",
       " 'talk.politics.mideast',\n",
       " 'talk.politics.misc',\n",
       " 'talk.religion.misc']"
      ]
     },
     "execution_count": 91,
     "metadata": {},
     "output_type": "execute_result"
    }
   ],
   "source": [
    "# You can check the target names (categories) by using target_names\n",
    "# the texts are stored in the data attribute of the variable twinty train\n",
    "twenty_train.target_names"
   ]
  },
  {
   "cell_type": "code",
   "execution_count": 92,
   "metadata": {
    "colab": {
     "base_uri": "https://localhost:8080/",
     "height": 34
    },
    "colab_type": "code",
    "id": "Bk4RerKvLYLn",
    "outputId": "ba39bad6-87f6-44ca-a8ad-0d72726a7692"
   },
   "outputs": [
    {
     "data": {
      "text/plain": [
       "(7532, 93255)"
      ]
     },
     "execution_count": 92,
     "metadata": {},
     "output_type": "execute_result"
    }
   ],
   "source": [
    "from sklearn.feature_extraction.text import CountVectorizer\n",
    "count_vect = CountVectorizer(stop_words='english')\n",
    "X_test_counts = count_vect.fit_transform(twenty_test.data)\n",
    "X_test_counts.shape"
   ]
  },
  {
   "cell_type": "markdown",
   "metadata": {
    "colab_type": "text",
    "id": "7C5_zIqtDtN1"
   },
   "source": [
    "# Features extraction from text data"
   ]
  },
  {
   "cell_type": "code",
   "execution_count": 93,
   "metadata": {
    "colab": {
     "base_uri": "https://localhost:8080/",
     "height": 34
    },
    "colab_type": "code",
    "id": "dAJSS-NVDtN1",
    "outputId": "240d149b-449c-41b6-e660-ee14d3e73fad"
   },
   "outputs": [
    {
     "data": {
      "text/plain": [
       "(11314, 129796)"
      ]
     },
     "execution_count": 93,
     "metadata": {},
     "output_type": "execute_result"
    }
   ],
   "source": [
    "#check the scikit documentation to see definition of CoutVectorizer\n",
    "from sklearn.feature_extraction.text import CountVectorizer\n",
    "count_vect = CountVectorizer(stop_words='english')\n",
    "X_train_counts = count_vect.fit_transform(twenty_train.data)\n",
    "X_train_counts.shape"
   ]
  },
  {
   "cell_type": "code",
   "execution_count": 94,
   "metadata": {
    "colab": {},
    "colab_type": "code",
    "id": "GESzyVqlDtN4"
   },
   "outputs": [],
   "source": [
    "# TF-IDF is an other text preprocessing procedure : Check its definition and apply it using the following code\n",
    "from sklearn.feature_extraction.text import TfidfTransformer\n",
    "tfidf_transformer = TfidfTransformer()\n",
    "X_train_tfidf = tfidf_transformer.fit_transform(X_train_counts)"
   ]
  },
  {
   "cell_type": "markdown",
   "metadata": {
    "colab_type": "text",
    "id": "9PQrSN_6DtN6"
   },
   "source": [
    "# Try a machine learning algorithm"
   ]
  },
  {
   "cell_type": "code",
   "execution_count": 95,
   "metadata": {
    "colab": {},
    "colab_type": "code",
    "id": "ayzPvDyZDtN7"
   },
   "outputs": [],
   "source": [
    "# Training Naive Bayes (NB) classifier on training data.\n",
    "from sklearn.naive_bayes import MultinomialNB\n",
    "clf = MultinomialNB().fit(X_train_tfidf, twenty_train.target)"
   ]
  },
  {
   "cell_type": "markdown",
   "metadata": {
    "colab_type": "text",
    "id": "g2WDC8N_DtN9"
   },
   "source": [
    "# Build a pipeline including preprocessings and learning steps"
   ]
  },
  {
   "cell_type": "code",
   "execution_count": 96,
   "metadata": {
    "colab": {},
    "colab_type": "code",
    "id": "fULWguVODtN9"
   },
   "outputs": [],
   "source": [
    "# Building a pipeline: We can write less code and do all of the above, by building a pipeline as follows:\n",
    "# We will be using the 'text_clf' going forward.\n",
    "from sklearn.pipeline import Pipeline\n",
    "\n",
    "text_clf = Pipeline([('vect', CountVectorizer(stop_words='english')), ('tfidf', TfidfTransformer()), ('clf', MultinomialNB())])\n",
    "\n",
    "text_clf = text_clf.fit(twenty_train.data, twenty_train.target)"
   ]
  },
  {
   "cell_type": "markdown",
   "metadata": {
    "colab_type": "text",
    "id": "LE_q9k3nDtN_"
   },
   "source": [
    "# Evaluate your model performance"
   ]
  },
  {
   "cell_type": "markdown",
   "metadata": {
    "colab_type": "text",
    "id": "NvgfjottDtOA"
   },
   "source": [
    "Exercice : evaluate the performance of the first model (named clf) on the 20 newsgroups test data "
   ]
  },
  {
   "cell_type": "code",
   "execution_count": 97,
   "metadata": {
    "colab": {},
    "colab_type": "code",
    "id": "Zrg6sHSfag7M"
   },
   "outputs": [],
   "source": [
    "docs_test = twenty_test.data"
   ]
  },
  {
   "cell_type": "code",
   "execution_count": 98,
   "metadata": {
    "colab": {},
    "colab_type": "code",
    "id": "wGvZAieuDtOB"
   },
   "outputs": [],
   "source": [
    "clf_res = text_clf.predict(docs_test)"
   ]
  },
  {
   "cell_type": "code",
   "execution_count": 99,
   "metadata": {
    "colab": {
     "base_uri": "https://localhost:8080/",
     "height": 50
    },
    "colab_type": "code",
    "id": "_D1YEEMrLIEe",
    "outputId": "ac079692-6f07-4a5d-a85b-3b2cb8870c09"
   },
   "outputs": [
    {
     "name": "stdout",
     "output_type": "stream",
     "text": [
      "ACC：\n",
      "0.8169144981412639\n"
     ]
    }
   ],
   "source": [
    "import numpy as np\n",
    "print(\"ACC：\")\n",
    "print(np.mean(clf_res == twenty_test.target))"
   ]
  },
  {
   "cell_type": "markdown",
   "metadata": {
    "colab_type": "text",
    "id": "cN-IPhNjtDo2"
   },
   "source": [
    "# Evaluate MY news_30 model performance"
   ]
  },
  {
   "cell_type": "code",
   "execution_count": 100,
   "metadata": {
    "colab": {},
    "colab_type": "code",
    "id": "3JBRGHD1tLOz"
   },
   "outputs": [],
   "source": [
    "new_predict = text_clf.predict(news_30)"
   ]
  },
  {
   "cell_type": "code",
   "execution_count": 101,
   "metadata": {
    "colab": {
     "base_uri": "https://localhost:8080/",
     "height": 50
    },
    "colab_type": "code",
    "id": "jstNRRzLv-EI",
    "outputId": "de09008c-4c50-4334-d185-2424ee6230a5"
   },
   "outputs": [
    {
     "data": {
      "text/plain": [
       "array([14, 10, 10, 14, 14, 18, 18, 17, 17, 14, 10, 17, 10, 10, 10, 13, 16,\n",
       "       14, 14, 14, 18, 15, 15, 17, 14, 17, 16, 17,  9, 12])"
      ]
     },
     "execution_count": 101,
     "metadata": {},
     "output_type": "execute_result"
    }
   ],
   "source": [
    "new_predict"
   ]
  },
  {
   "cell_type": "markdown",
   "metadata": {
    "colab_type": "text",
    "id": "Nw0tfJbIDtOC"
   },
   "source": [
    "# Exercice : Using scikit pipeline and SVM Classifier (http://scikit-learn.org/stable/modules/generated/sklearn.linear_model.SGDClassifier.html), create a model based on the 20newsgroup dataset and evaluate its performance."
   ]
  },
  {
   "cell_type": "code",
   "execution_count": 102,
   "metadata": {
    "colab": {
     "base_uri": "https://localhost:8080/",
     "height": 104
    },
    "colab_type": "code",
    "id": "gi-7a-_QDtOE",
    "outputId": "2544c843-bf10-409b-d7a0-7becec66e48a"
   },
   "outputs": [
    {
     "name": "stderr",
     "output_type": "stream",
     "text": [
      "F:\\Anaconda\\lib\\site-packages\\sklearn\\linear_model\\stochastic_gradient.py:117: DeprecationWarning: n_iter parameter is deprecated in 0.19 and will be removed in 0.21. Use max_iter and tol instead.\n",
      "  DeprecationWarning)\n"
     ]
    },
    {
     "name": "stdout",
     "output_type": "stream",
     "text": [
      "ACC：\n",
      "0.8224907063197026\n"
     ]
    }
   ],
   "source": [
    "from sklearn.linear_model import SGDClassifier\n",
    "text_clf_svm = Pipeline([('vect', CountVectorizer(stop_words='english')),\n",
    "                     ('tfidf', TfidfTransformer()),\n",
    "                     ('clf', SGDClassifier(loss='hinge',\n",
    "                                            penalty='l2',\n",
    "                                            alpha=1e-3,\n",
    "                                            n_iter=5,\n",
    "                                            random_state=42)),\n",
    "                    ])\n",
    "text_clf_svm = text_clf_svm.fit(twenty_train.data, twenty_train.target)\n",
    "predicted = text_clf_svm.predict(docs_test)\n",
    "print(\"ACC：\")\n",
    "print(np.mean(predicted == twenty_test.target))"
   ]
  },
  {
   "cell_type": "code",
   "execution_count": 103,
   "metadata": {
    "colab": {},
    "colab_type": "code",
    "id": "ukwFBFZFxxai"
   },
   "outputs": [],
   "source": [
    "new_predict_svm = text_clf_svm.predict(news_30)"
   ]
  },
  {
   "cell_type": "code",
   "execution_count": 104,
   "metadata": {
    "colab": {
     "base_uri": "https://localhost:8080/",
     "height": 50
    },
    "colab_type": "code",
    "id": "puwKiFWNx4VK",
    "outputId": "1c5975e1-2f60-4d44-b399-58fb8029cf20"
   },
   "outputs": [
    {
     "data": {
      "text/plain": [
       "array([14, 10, 10, 14, 14, 18, 18, 17, 18, 14, 10, 18, 10, 10, 14, 10, 17,\n",
       "       14, 14, 14, 18,  7, 13, 18, 14, 17, 13, 17,  9, 12])"
      ]
     },
     "execution_count": 104,
     "metadata": {},
     "output_type": "execute_result"
    }
   ],
   "source": [
    "new_predict_svm"
   ]
  },
  {
   "cell_type": "markdown",
   "metadata": {
    "colab_type": "text",
    "id": "fb7ST-tzDtOF"
   },
   "source": [
    "# Grid Search : Trying different hyperparameters"
   ]
  },
  {
   "cell_type": "code",
   "execution_count": 105,
   "metadata": {
    "colab": {},
    "colab_type": "code",
    "id": "MLevPgB4DtOG"
   },
   "outputs": [],
   "source": [
    "# First, we are creating a list of parameters for which we would like to do performance tuning. \n",
    "# All the parameters name start with the classifier name.\n",
    "# E.g. vect__ngram_range; here we are telling to use unigram and bigrams and choose the one which is optimal.\n",
    "\n",
    "from sklearn.model_selection import GridSearchCV\n",
    "parameters = {'vect__ngram_range': [(1, 1), (1, 2)], 'tfidf__use_idf': (True, False), 'clf__alpha': (1e-2, 1e-3)}"
   ]
  },
  {
   "cell_type": "code",
   "execution_count": 106,
   "metadata": {
    "colab": {},
    "colab_type": "code",
    "id": "lnbFoGvcDtOI"
   },
   "outputs": [],
   "source": [
    "# Next, we create an instance of the grid search by passing the classifier, parameters \n",
    "# and n_jobs=-1 which tells to use multiple cores from user machine.\n",
    "\n",
    "gs_clf = GridSearchCV(text_clf, parameters, n_jobs=-1)\n",
    "gs_clf = gs_clf.fit(twenty_train.data, twenty_train.target)"
   ]
  },
  {
   "cell_type": "code",
   "execution_count": 107,
   "metadata": {
    "colab": {
     "base_uri": "https://localhost:8080/",
     "height": 50
    },
    "colab_type": "code",
    "id": "zODyXKFvDtOK",
    "outputId": "db01404b-fa5b-45fc-a630-f3cbd83cdda9"
   },
   "outputs": [
    {
     "name": "stdout",
     "output_type": "stream",
     "text": [
      "0.9057804490012374\n",
      "{'clf__alpha': 0.01, 'tfidf__use_idf': False, 'vect__ngram_range': (1, 1)}\n"
     ]
    }
   ],
   "source": [
    "# To see the best mean score and the params, run the following code\n",
    "\n",
    "print(gs_clf.best_score_)\n",
    "print(gs_clf.best_params_)\n",
    "\n",
    "# Output for above should be: The accuracy has now increased to ~90.6% for the NB classifier\n",
    "# and the corresponding parameters are {‘clf__alpha’: 0.01, ‘tfidf__use_idf’: True, ‘vect__ngram_range’: (1, 2)}."
   ]
  },
  {
   "cell_type": "code",
   "execution_count": 108,
   "metadata": {
    "colab": {
     "base_uri": "https://localhost:8080/",
     "height": 50
    },
    "colab_type": "code",
    "id": "9y1eeAnsZjYh",
    "outputId": "fc6817b9-404a-4ab8-d477-0e1d8dae8862"
   },
   "outputs": [
    {
     "data": {
      "text/plain": [
       "array([14, 10, 10, 14, 14, 18, 18, 17, 18, 16, 10, 18, 10, 10, 16, 13, 16,\n",
       "       14, 14, 14, 18, 14, 13, 18, 14, 17, 18, 17,  9, 12])"
      ]
     },
     "execution_count": 108,
     "metadata": {},
     "output_type": "execute_result"
    }
   ],
   "source": [
    "gs_clf.predict(news_30)"
   ]
  },
  {
   "cell_type": "markdown",
   "metadata": {
    "colab_type": "text",
    "id": "QRMP_i4HDtON"
   },
   "source": [
    "# Grid Search for SVM : Similarly, do grid search for SVM and output the best score and parameters"
   ]
  },
  {
   "cell_type": "code",
   "execution_count": 109,
   "metadata": {
    "colab": {},
    "colab_type": "code",
    "id": "C-u0GjVVDtON"
   },
   "outputs": [],
   "source": [
    "# 查看分类器对于新文本的预测结果，你可以自行改变下方的字符串来观察分类效果\n",
    "gs_clf_svm = GridSearchCV(text_clf_svm, parameters, n_jobs=-1)\n",
    "gs_clf_svm = gs_clf.fit(twenty_train.data, twenty_train.target)"
   ]
  },
  {
   "cell_type": "code",
   "execution_count": 110,
   "metadata": {
    "colab": {
     "base_uri": "https://localhost:8080/",
     "height": 50
    },
    "colab_type": "code",
    "id": "2iYRdIoemwwd",
    "outputId": "6d9f3809-87fe-462a-ab05-72648fdfc39b"
   },
   "outputs": [
    {
     "name": "stdout",
     "output_type": "stream",
     "text": [
      "0.9057804490012374\n",
      "{'clf__alpha': 0.01, 'tfidf__use_idf': False, 'vect__ngram_range': (1, 1)}\n"
     ]
    }
   ],
   "source": [
    "print(gs_clf_svm.best_score_)\n",
    "print(gs_clf_svm.best_params_)"
   ]
  },
  {
   "cell_type": "code",
   "execution_count": 111,
   "metadata": {
    "colab": {
     "base_uri": "https://localhost:8080/",
     "height": 50
    },
    "colab_type": "code",
    "id": "CJ8aYkRd9DVc",
    "outputId": "81c8b3a6-9a96-4466-ec9e-ada3c5620fff"
   },
   "outputs": [
    {
     "data": {
      "text/plain": [
       "array([14, 10, 10, 14, 14, 18, 18, 17, 18, 16, 10, 18, 10, 10, 16, 13, 16,\n",
       "       14, 14, 14, 18, 14, 13, 18, 14, 17, 18, 17,  9, 12])"
      ]
     },
     "execution_count": 111,
     "metadata": {},
     "output_type": "execute_result"
    }
   ],
   "source": [
    "gs_clf_svm.predict(news_30)"
   ]
  },
  {
   "cell_type": "markdown",
   "metadata": {
    "colab_type": "text",
    "id": "44K4wyzHxOWH"
   },
   "source": [
    "#save as CSV\n"
   ]
  },
  {
   "cell_type": "markdown",
   "metadata": {
    "colab_type": "text",
    "id": "aONsGAXf1PoF"
   },
   "source": [
    "'alt.atheism',\n",
    "\n",
    " 'comp.graphics',\n",
    " \n",
    " 'comp.os.ms-windows.misc',\n",
    " \n",
    " 'comp.sys.ibm.pc.hardware',\n",
    " \n",
    " 'comp.sys.mac.hardware',\n",
    " \n",
    " 'comp.windows.x',\n",
    " \n",
    " 'misc.forsale',\n",
    " \n",
    " 'rec.autos',\n",
    " \n",
    " 'rec.motorcycles',\n",
    " \n",
    " 'rec.sport.baseball',\n",
    " \n",
    " 'rec.sport.hockey',\n",
    " \n",
    " 'sci.crypt',\n",
    " \n",
    " 'sci.electronics',\n",
    " \n",
    " 'sci.med',\n",
    " \n",
    " 'sci.space',\n",
    " \n",
    " 'soc.religion.christian',\n",
    " \n",
    " 'talk.politics.guns',\n",
    " \n",
    " 'talk.politics.mideast',\n",
    " \n",
    " 'talk.politics.misc',\n",
    " \n",
    " 'talk.religion.misc'"
   ]
  },
  {
   "cell_type": "code",
   "execution_count": 112,
   "metadata": {
    "colab": {},
    "colab_type": "code",
    "id": "rxShtqBkxSFS"
   },
   "outputs": [],
   "source": [
    "import pandas as pd\n",
    "news_result = pd.DataFrame(document_30,columns=[\"document\"])\n",
    "news_result[\"title\"] = title_30\n",
    "news_result[\"subject\"] = gs_clf_svm.predict(news_30)\n",
    "news_result = news_result.replace({7:\"misc.forsale\",8:\"rec.autos\",9:\"rec.motorcycles\",10:\"rec.sport.baseball\",11:\"rec.sport.hockey\",12:\"sci.crypt\",13:\"sci.electronics\",14:\"sci.med\",15:\"sci.space\",16:\"soc.religion.christian\",17:\"talk.politics.guns\",18:\"talk.politics.mideast\",19:\"talk.politics.misc\",20:\"talk.religion.misc\"})"
   ]
  },
  {
   "cell_type": "code",
   "execution_count": 113,
   "metadata": {
    "colab": {},
    "colab_type": "code",
    "id": "dkRzynM62uJL"
   },
   "outputs": [],
   "source": [
    "news_result.to_csv (\"text_news.csv\" , encoding = \"utf-8\")"
   ]
  },
  {
   "cell_type": "code",
   "execution_count": 114,
   "metadata": {
    "colab": {},
    "colab_type": "code",
    "id": "dxp89cQG3Y_t"
   },
   "outputs": [],
   "source": [
    "# from google.colab import files\n",
    "\n",
    "\n",
    "# files.download('text_news.csv')"
   ]
  }
 ],
 "metadata": {
  "colab": {
   "name": "Tutorial 3 Text Classification.ipynb",
   "provenance": [],
   "toc_visible": true,
   "version": "0.3.2"
  },
  "kernelspec": {
   "display_name": "Python 3",
   "language": "python",
   "name": "python3"
  },
  "language_info": {
   "codemirror_mode": {
    "name": "ipython",
    "version": 3
   },
   "file_extension": ".py",
   "mimetype": "text/x-python",
   "name": "python",
   "nbconvert_exporter": "python",
   "pygments_lexer": "ipython3",
   "version": "3.6.4"
  }
 },
 "nbformat": 4,
 "nbformat_minor": 1
}
